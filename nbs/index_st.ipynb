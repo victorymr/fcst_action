{
 "cells": [
  {
   "cell_type": "code",
   "execution_count": null,
   "metadata": {},
   "outputs": [
    {
     "name": "stdout",
     "output_type": "stream",
     "text": [
      "{'lat_lon': (40.7128, -74.006), 'time_zone': 'America/New_York', 'local_peak_start': '2024-03-21 10:00:00', 'local_peak_end': '2024-03-21 17:00:00'}\n",
      "{'lat_lon': (28.6139, 77.209), 'time_zone': 'Asia/Kolkata', 'local_peak_start': '2024-03-21 19:30:00', 'local_peak_end': '2024-03-22 02:30:00'}\n",
      "Timezone offset for latitude 40.7128, longitude -74.006 is -4.0 hours.\n"
     ]
    }
   ],
   "source": [
    "#| default_exp streamlit.index_st"
   ]
  },
  {
   "cell_type": "markdown",
   "metadata": {},
   "source": [
    "# Forecast Actions\n",
    "\n",
    "> Trigger actions based on forecast"
   ]
  },
  {
   "cell_type": "code",
   "execution_count": null,
   "metadata": {},
   "outputs": [
    {
     "name": "stdout",
     "output_type": "stream",
     "text": [
      "The autoreload extension is already loaded. To reload it, use:\n",
      "  %reload_ext autoreload\n"
     ]
    }
   ],
   "source": [
    "%load_ext autoreload\n",
    "%autoreload 2"
   ]
  },
  {
   "cell_type": "code",
   "execution_count": null,
   "metadata": {},
   "outputs": [],
   "source": [
    "#| export\n",
    "from fcst_action.core import *"
   ]
  },
  {
   "cell_type": "markdown",
   "metadata": {},
   "source": [
    "This file will become your README and also the index of your documentation."
   ]
  },
  {
   "cell_type": "code",
   "execution_count": null,
   "metadata": {},
   "outputs": [],
   "source": [
    "### Get campaign details"
   ]
  },
  {
   "cell_type": "code",
   "execution_count": null,
   "metadata": {},
   "outputs": [],
   "source": [
    "#| export\n",
    "company_df, campaigns_df = get_campaign_details()\n",
    "company_list = company_df['Company'].tolist()"
   ]
  },
  {
   "cell_type": "code",
   "execution_count": null,
   "metadata": {},
   "outputs": [],
   "source": [
    "#| export\n",
    "import streamlit as st\n",
    "from streamlit_jupyter import StreamlitPatcher, tqdm"
   ]
  },
  {
   "cell_type": "code",
   "execution_count": null,
   "metadata": {},
   "outputs": [],
   "source": [
    "#| export\n",
    "StreamlitPatcher().jupyter()  # register streamlit with jupyter-compatible wrappers"
   ]
  },
  {
   "cell_type": "code",
   "execution_count": null,
   "metadata": {},
   "outputs": [],
   "source": [
    "#| export\n",
    "from datetime import datetime, timedelta\n",
    "from matplotlib import pyplot as plt\n",
    "import pandas as pd"
   ]
  },
  {
   "cell_type": "code",
   "execution_count": null,
   "metadata": {},
   "outputs": [
    {
     "data": {
      "text/markdown": [
       "# Forecast Actions"
      ],
      "text/plain": [
       "<IPython.core.display.Markdown object>"
      ]
     },
     "metadata": {},
     "output_type": "display_data"
    }
   ],
   "source": [
    "#| export\n",
    "st.title(\"Forecast Actions\")"
   ]
  },
  {
   "cell_type": "markdown",
   "metadata": {},
   "source": [
    "### Extract the city level campaign info"
   ]
  },
  {
   "cell_type": "code",
   "execution_count": null,
   "metadata": {},
   "outputs": [
    {
     "data": {
      "application/vnd.jupyter.widget-view+json": {
       "model_id": "ecc5434646a34fc2bf5ffb5d8b2a74cd",
       "version_major": 2,
       "version_minor": 0
      },
      "text/plain": [
       "Dropdown(description='Select a company', options=('TreEscape', 'BigAssFans', 'Dolphinarium', 'AmnetIndia'), va…"
      ]
     },
     "metadata": {},
     "output_type": "display_data"
    }
   ],
   "source": [
    "#| export \n",
    "company_sel = st.selectbox('Select a company', company_list)"
   ]
  },
  {
   "cell_type": "code",
   "execution_count": null,
   "metadata": {},
   "outputs": [
    {
     "data": {
      "application/vnd.jupyter.widget-view+json": {
       "model_id": "775370e3b4544de284635b31da4653d7",
       "version_major": 2,
       "version_minor": 0
      },
      "text/plain": [
       "Dropdown(description='Forecast Lead', options=(0, 1, 2, 3, 4, 5, 6, 7, 8, 9, 10), value=0)"
      ]
     },
     "metadata": {},
     "output_type": "display_data"
    },
    {
     "data": {
      "application/vnd.jupyter.widget-view+json": {
       "model_id": "55b754f7aee54bb3a79acbaf2be9af80",
       "version_major": 2,
       "version_minor": 0
      },
      "text/plain": [
       "Dropdown(description='Look back', options=(0, 1, 2, 3, 4, 5, 6, 7, 8, 9, 10, 11, 12, 13, 14, 15, 16, 17, 18, 1…"
      ]
     },
     "metadata": {},
     "output_type": "display_data"
    }
   ],
   "source": [
    "#| export\n",
    "col1, col2 = st.columns(2)\n",
    "with col1:\n",
    "    lead_sel = st.selectbox('Forecast Lead',list(range(0,11)),index=False)\n",
    "with col2:\n",
    "    look_back_days = st.selectbox('Look back',list(range(0,90)))"
   ]
  },
  {
   "cell_type": "code",
   "execution_count": null,
   "metadata": {},
   "outputs": [
    {
     "data": {
      "text/plain": [
       "('TreEscape', 0, 0)"
      ]
     },
     "execution_count": null,
     "metadata": {},
     "output_type": "execute_result"
    }
   ],
   "source": [
    "company_sel, lead_sel, look_back_days"
   ]
  },
  {
   "cell_type": "code",
   "execution_count": null,
   "metadata": {},
   "outputs": [
    {
     "name": "stdout",
     "output_type": "stream",
     "text": [
      "TreEscape is in the OutdoorAdventure business operating in Jersey City, NJ\n",
      "Here is some additional background\n",
      "automated weather-based rules to activate their ‘sunny’ ad set (on Meta) and ad group (on Display) when the forecast was sunny over a 3-day window. The rolling 3-day forecast was updated several times per day based on latest weather data.\n",
      "\n",
      "When the forecast looked positive, WeatherAds would turn on the associated ads in Google and Meta. The ad copy also used the forecast as a hook to drive bookings for TreEscape. The tagline read “looks like sun, looks like fun!”\n"
     ]
    }
   ],
   "source": [
    "#| export\n",
    "city_res_df, city_locations = get_campaign_hist(company_df, campaigns_df, company_sel = company_sel, lead_days=lead_sel, recent_days=look_back_days)\n",
    "comp_row = company_df[company_df['Company']==company_sel].iloc[-1,:]\n",
    "out_story = print_campaign_story(comp_row)"
   ]
  },
  {
   "cell_type": "code",
   "execution_count": null,
   "metadata": {},
   "outputs": [
    {
     "data": {
      "text/markdown": [
       "TreEscape is in the OutdoorAdventure business operating in Jersey City, NJ"
      ],
      "text/plain": [
       "<IPython.core.display.Markdown object>"
      ]
     },
     "metadata": {},
     "output_type": "display_data"
    },
    {
     "data": {
      "text/markdown": [
       "Here is some additional background"
      ],
      "text/plain": [
       "<IPython.core.display.Markdown object>"
      ]
     },
     "metadata": {},
     "output_type": "display_data"
    },
    {
     "data": {
      "text/markdown": [
       "automated weather-based rules to activate their ‘sunny’ ad set (on Meta) and ad group (on Display) when the forecast was sunny over a 3-day window. The rolling 3-day forecast was updated several times per day based on latest weather data.\n",
       "\n",
       "When the forecast looked positive, WeatherAds would turn on the associated ads in Google and Meta. The ad copy also used the forecast as a hook to drive bookings for TreEscape. The tagline read “looks like sun, looks like fun!”"
      ],
      "text/plain": [
       "<IPython.core.display.Markdown object>"
      ]
     },
     "metadata": {},
     "output_type": "display_data"
    },
    {
     "data": {
      "text/html": [
       "<div>\n",
       "<style scoped>\n",
       "    .dataframe tbody tr th:only-of-type {\n",
       "        vertical-align: middle;\n",
       "    }\n",
       "\n",
       "    .dataframe tbody tr th {\n",
       "        vertical-align: top;\n",
       "    }\n",
       "\n",
       "    .dataframe thead th {\n",
       "        text-align: right;\n",
       "    }\n",
       "</style>\n",
       "<table border=\"1\" class=\"dataframe\">\n",
       "  <thead>\n",
       "    <tr style=\"text-align: right;\">\n",
       "      <th></th>\n",
       "      <th>creation_time</th>\n",
       "      <th>Jersey City, NJ</th>\n",
       "    </tr>\n",
       "  </thead>\n",
       "  <tbody>\n",
       "    <tr>\n",
       "      <th>0</th>\n",
       "      <td>2023-06-01 00:00:00</td>\n",
       "      <td>LooklikeSunFun</td>\n",
       "    </tr>\n",
       "    <tr>\n",
       "      <th>1</th>\n",
       "      <td>2023-06-01 06:00:00</td>\n",
       "      <td>LooklikeSunFun</td>\n",
       "    </tr>\n",
       "    <tr>\n",
       "      <th>2</th>\n",
       "      <td>2023-06-01 12:00:00</td>\n",
       "      <td>LooklikeSunFun</td>\n",
       "    </tr>\n",
       "    <tr>\n",
       "      <th>3</th>\n",
       "      <td>2023-06-01 18:00:00</td>\n",
       "      <td>LooklikeSunFun</td>\n",
       "    </tr>\n",
       "    <tr>\n",
       "      <th>4</th>\n",
       "      <td>2023-06-02 00:00:00</td>\n",
       "      <td>None</td>\n",
       "    </tr>\n",
       "    <tr>\n",
       "      <th>5</th>\n",
       "      <td>2023-06-02 06:00:00</td>\n",
       "      <td>None</td>\n",
       "    </tr>\n",
       "    <tr>\n",
       "      <th>6</th>\n",
       "      <td>2023-06-02 12:00:00</td>\n",
       "      <td>None</td>\n",
       "    </tr>\n",
       "    <tr>\n",
       "      <th>7</th>\n",
       "      <td>2023-06-02 18:00:00</td>\n",
       "      <td>LooklikeSunFun</td>\n",
       "    </tr>\n",
       "    <tr>\n",
       "      <th>8</th>\n",
       "      <td>2023-06-03 00:00:00</td>\n",
       "      <td>None</td>\n",
       "    </tr>\n",
       "    <tr>\n",
       "      <th>9</th>\n",
       "      <td>2023-06-03 06:00:00</td>\n",
       "      <td>None</td>\n",
       "    </tr>\n",
       "  </tbody>\n",
       "</table>\n",
       "</div>"
      ],
      "text/plain": [
       "        creation_time Jersey City, NJ\n",
       "0 2023-06-01 00:00:00  LooklikeSunFun\n",
       "1 2023-06-01 06:00:00  LooklikeSunFun\n",
       "2 2023-06-01 12:00:00  LooklikeSunFun\n",
       "3 2023-06-01 18:00:00  LooklikeSunFun\n",
       "4 2023-06-02 00:00:00            None\n",
       "5 2023-06-02 06:00:00            None\n",
       "6 2023-06-02 12:00:00            None\n",
       "7 2023-06-02 18:00:00  LooklikeSunFun\n",
       "8 2023-06-03 00:00:00            None\n",
       "9 2023-06-03 06:00:00            None"
      ]
     },
     "metadata": {},
     "output_type": "display_data"
    }
   ],
   "source": [
    "#| export\n",
    "for story in out_story:\n",
    "    st.write(story)\n",
    "st.dataframe(city_res_df.head(10))"
   ]
  },
  {
   "cell_type": "markdown",
   "metadata": {},
   "source": [
    "### Plot a heatmap by city"
   ]
  },
  {
   "cell_type": "code",
   "execution_count": null,
   "metadata": {},
   "outputs": [
    {
     "data": {
      "image/png": "[encoded data removed]",
      "text/plain": [
       "<Figure size 1200x600 with 1 Axes>"
      ]
     },
     "metadata": {},
     "output_type": "display_data"
    },
    {
     "data": {
      "text/plain": [
       "DeltaGenerator()"
      ]
     },
     "execution_count": null,
     "metadata": {},
     "output_type": "execute_result"
    }
   ],
   "source": [
    "#| export\n",
    "st.pyplot(campaign_heatmap(city_res_df))"
   ]
  },
  {
   "cell_type": "markdown",
   "metadata": {},
   "source": [
    "### Save a map of campaign signals"
   ]
  },
  {
   "cell_type": "code",
   "execution_count": null,
   "metadata": {},
   "outputs": [
    {
     "name": "stdout",
     "output_type": "stream",
     "text": [
      "Map saved to ads_over_time.html\n"
     ]
    }
   ],
   "source": [
    "#| export\n",
    "map_campaigns_by_day(city_res_df,city_locations)"
   ]
  },
  {
   "cell_type": "markdown",
   "metadata": {},
   "source": [
    "### Summary stats of # of Ads of each type by City\n",
    "#### of days campaign is run and % of time"
   ]
  },
  {
   "cell_type": "code",
   "execution_count": null,
   "metadata": {},
   "outputs": [
    {
     "data": {
      "text/markdown": [
       "Summary Stats"
      ],
      "text/plain": [
       "<IPython.core.display.Markdown object>"
      ]
     },
     "metadata": {},
     "output_type": "display_data"
    },
    {
     "data": {
      "text/html": [
       "<div>\n",
       "<style scoped>\n",
       "    .dataframe tbody tr th:only-of-type {\n",
       "        vertical-align: middle;\n",
       "    }\n",
       "\n",
       "    .dataframe tbody tr th {\n",
       "        vertical-align: top;\n",
       "    }\n",
       "\n",
       "    .dataframe thead th {\n",
       "        text-align: right;\n",
       "    }\n",
       "</style>\n",
       "<table border=\"1\" class=\"dataframe\">\n",
       "  <thead>\n",
       "    <tr style=\"text-align: right;\">\n",
       "      <th></th>\n",
       "      <th></th>\n",
       "      <th>LooklikeSunFun</th>\n",
       "    </tr>\n",
       "  </thead>\n",
       "  <tbody>\n",
       "    <tr>\n",
       "      <th>Duration (in hours)</th>\n",
       "      <th>Jersey City, NJ</th>\n",
       "      <td>28 days 12:00:00</td>\n",
       "    </tr>\n",
       "    <tr>\n",
       "      <th>Percentage of total time</th>\n",
       "      <th>Jersey City, NJ</th>\n",
       "      <td>30.98%</td>\n",
       "    </tr>\n",
       "  </tbody>\n",
       "</table>\n",
       "</div>"
      ],
      "text/plain": [
       "                                            LooklikeSunFun\n",
       "Duration (in hours)      Jersey City, NJ  28 days 12:00:00\n",
       "Percentage of total time Jersey City, NJ            30.98%"
      ]
     },
     "metadata": {},
     "output_type": "display_data"
    },
    {
     "name": "stderr",
     "output_type": "stream",
     "text": [
      "2024-03-21 16:22:56.837 Serialization of dataframe to Arrow table was unsuccessful due to: (\"object of type <class 'str'> cannot be converted to int\", 'Conversion failed for column LooklikeSunFun with type object'). Applying automatic fixes for column types to make the dataframe Arrow-compatible.\n"
     ]
    }
   ],
   "source": [
    "#| export\n",
    "if not look_back_days or look_back_days > 5:\n",
    "    summary_stats = get_campaign_summary(city_res_df)\n",
    "    st.write(\"Summary Stats\")\n",
    "    # Convert dictionary to DataFrame\n",
    "    df = pd.DataFrame.from_dict({(i, j): summary_stats[i][j] \n",
    "                                for i in summary_stats.keys() \n",
    "                                for j in summary_stats[i].keys()}, orient='columns')\n",
    "\n",
    "    # Format the Percentage column to display as percentage\n",
    "    df['Percentage of total time'] = df['Percentage of total time'].map(lambda x: f\"{x:.2f}%\")\n",
    "\n",
    "    # Round the Duration column to the nearest integer\n",
    "    df['Duration (in hours)'] = df['Duration (in hours)'].round()\n",
    "\n",
    "    # Transpose the DataFrame\n",
    "    df = df.T\n",
    "    display(df)\n",
    "    st.table(df)"
   ]
  },
  {
   "cell_type": "code",
   "execution_count": null,
   "metadata": {},
   "outputs": [],
   "source": [
    "#| hide\n",
    "import nbdev; nbdev.nbdev_export()"
   ]
  },
  {
   "cell_type": "code",
   "execution_count": null,
   "metadata": {},
   "outputs": [],
   "source": []
  }
 ],
 "metadata": {
  "kernelspec": {
   "display_name": "python3",
   "language": "python",
   "name": "python3"
  }
 },
 "nbformat": 4,
 "nbformat_minor": 4
}
