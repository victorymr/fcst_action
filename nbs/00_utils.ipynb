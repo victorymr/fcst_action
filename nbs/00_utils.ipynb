{
 "cells": [
  {
   "cell_type": "code",
   "execution_count": null,
   "metadata": {},
   "outputs": [],
   "source": [
    "#| default_exp utils"
   ]
  },
  {
   "cell_type": "markdown",
   "metadata": {},
   "source": [
    "# fcst_campaign utils module\n",
    "\n",
    "> Some generic tools"
   ]
  },
  {
   "cell_type": "code",
   "execution_count": null,
   "metadata": {},
   "outputs": [],
   "source": [
    "%load_ext autoreload\n",
    "%autoreload 2"
   ]
  },
  {
   "cell_type": "code",
   "execution_count": null,
   "metadata": {},
   "outputs": [],
   "source": [
    "IN_COLAB = 'google.colab' in str(get_ipython())\n",
    "if IN_COLAB:\n",
    "  !pip install git+https://github.com/pete88b/nbdev_colab_helper.git\n",
    "  from nbdev_colab_helper.core import *\n",
    "  project_name = 'forecast_action'\n",
    "  init_notebook(project_name)"
   ]
  },
  {
   "cell_type": "code",
   "execution_count": null,
   "metadata": {},
   "outputs": [],
   "source": [
    "#| hide\n",
    "from nbdev.showdoc import *\n",
    "\n",
    "if IN_COLAB:\n",
    "  !pip install timezonefinder\n",
    "\n"
   ]
  },
  {
   "cell_type": "code",
   "execution_count": null,
   "metadata": {},
   "outputs": [],
   "source": [
    "#| export\n",
    "import pytz\n",
    "from datetime import datetime\n",
    "from timezonefinder import TimezoneFinder"
   ]
  },
  {
   "cell_type": "code",
   "execution_count": null,
   "metadata": {},
   "outputs": [],
   "source": [
    "#| export\n",
    "def get_state_capitals(geo_entry):\n",
    "    # Maps of country to a list of its state capitals\n",
    "    capitals = {\n",
    "        \"USA\": [\"Washington, D.C.\", \"Austin, TX\", \"Sacramento, CA\", \"New York, NY\", \"Chicago, IL\", \"Denver, CO\", \"Kanas City, MO\"],\n",
    "        \"India\": [\"New Delhi\", \"Mumbai\", \"Kolkata\", \"Chennai\", \"Hyderabad\", \"Pune\"]\n",
    "    }\n",
    "\n",
    "    # Check if the geo_entry is a recognized country and return its capitals\n",
    "    if geo_entry in capitals:\n",
    "        return capitals[geo_entry]\n",
    "    else:\n",
    "        # Return an empty list or a meaningful message if no data is available\n",
    "        return []\n",
    "\n"
   ]
  },
  {
   "cell_type": "code",
   "execution_count": null,
   "metadata": {},
   "outputs": [],
   "source": [
    "#| export\n",
    "\n",
    "import geopy.geocoders\n",
    "from geopy.geocoders import Nominatim\n",
    "from geopy.extra.rate_limiter import RateLimiter\n",
    "import certifi\n",
    "import ssl\n",
    "import time\n",
    "\n",
    "def get_lat_lon(geo_input):\n",
    "    \"\"\"\n",
    "    Convert a geographical input (city, state, or country) into a list of latitude-longitude pairs.\n",
    "    \"\"\"\n",
    "    ctx = ssl.create_default_context(cafile=certifi.where())\n",
    "    geopy.geocoders.options.default_ssl_context = ctx\n",
    "    \n",
    "    geolocator = Nominatim(user_agent=\"fcst_act/vijay.manghnani@gmail.com\",timeout=10)\n",
    "    # Use RateLimiter to avoid hitting usage limits\n",
    "    geocode = RateLimiter(geolocator.geocode, min_delay_seconds=1)\n",
    "\n",
    "    lat_lon_list = []\n",
    "\n",
    "    # Example of handling different types of geographical inputs\n",
    "    if isinstance(geo_input, str):  # Single city, state, or country\n",
    "        location = geolocator.geocode(geo_input)\n",
    "        if location:\n",
    "            lat_lon_list.append((location.latitude, location.longitude))\n",
    "    elif isinstance(geo_input, list):  # List of cities\n",
    "        for item in geo_input:\n",
    "            location = geolocator.geocode(item)\n",
    "            if location:\n",
    "                lat_lon_list.append((location.latitude, location.longitude))\n",
    "            time.sleep(1)\n",
    "\n",
    "    return lat_lon_list"
   ]
  },
  {
   "cell_type": "code",
   "execution_count": null,
   "metadata": {},
   "outputs": [],
   "source": [
    "#| export\n",
    "def create_geo_query_list(company_df, company_name):\n",
    "    \"\"\"\n",
    "    For a given company, generate a list of latitude-longitude pairs based on its 'Geo' field.\n",
    "    \"\"\"\n",
    "    # Find the 'Geo' entry for the company\n",
    "    geo_entry = company_df[company_df['Company'] == company_name]['Geo'].iloc[0]\n",
    "    #print(geo_entry)\n",
    "\n",
    "    country_names = ['USA', 'India']\n",
    "    ## Get a list of cities\n",
    "    if geo_entry in country_names:\n",
    "      city_names = get_state_capitals(geo_entry)\n",
    "    else:\n",
    "      city_names = [geo_entry]\n",
    "\n",
    "    # Handling different Geo formats (e.g., city, state, country)\n",
    "    # This is a placeholder; implementation depends on your data and needs\n",
    "    lat_lon_list = get_lat_lon(city_names)\n",
    "\n",
    "    return lat_lon_list, city_names"
   ]
  },
  {
   "cell_type": "code",
   "execution_count": null,
   "metadata": {},
   "outputs": [
    {
     "data": {
      "text/plain": [
       "'\\n# Example: Rounding the coordinates for Chicago\\nchicago_lat, chicago_lon = 41.8781, -87.6298\\nrounded_lat, rounded_lon = round_to_grid(chicago_lat, chicago_lon)\\n\\nprint(f\"Rounded Coordinates for Chicago: Latitude {rounded_lat}, Longitude {rounded_lon}\")\\n'"
      ]
     },
     "execution_count": null,
     "metadata": {},
     "output_type": "execute_result"
    }
   ],
   "source": [
    "#| export\n",
    "def round_to_grid(lat, lon, resolution=0.25):\n",
    "    \"\"\"Round latitude and longitude to the nearest grid resolution.\"\"\"\n",
    "    rounded_lat = round(lat / resolution) * resolution\n",
    "    rounded_lon = round(lon / resolution) * resolution\n",
    "    return rounded_lat, rounded_lon\n",
    "'''\n",
    "# Example: Rounding the coordinates for Chicago\n",
    "chicago_lat, chicago_lon = 41.8781, -87.6298\n",
    "rounded_lat, rounded_lon = round_to_grid(chicago_lat, chicago_lon)\n",
    "\n",
    "print(f\"Rounded Coordinates for Chicago: Latitude {rounded_lat}, Longitude {rounded_lon}\")\n",
    "'''"
   ]
  },
  {
   "cell_type": "code",
   "execution_count": null,
   "metadata": {},
   "outputs": [
    {
     "name": "stdout",
     "output_type": "stream",
     "text": [
      "{'lat_lon': (40.7128, -74.006), 'time_zone': 'America/New_York', 'local_peak_start': '2024-03-11 10:00:00', 'local_peak_end': '2024-03-11 17:00:00'}\n",
      "{'lat_lon': (28.6139, 77.209), 'time_zone': 'Asia/Kolkata', 'local_peak_start': '2024-03-11 19:30:00', 'local_peak_end': '2024-03-12 02:30:00'}\n"
     ]
    },
    {
     "name": "stderr",
     "output_type": "stream",
     "text": [
      "C:\\Users\\vjltd\\AppData\\Local\\Temp\\ipykernel_23420\\3142825042.py:12: DeprecationWarning: datetime.datetime.utcnow() is deprecated and scheduled for removal in a future version. Use timezone-aware objects to represent datetimes in UTC: datetime.datetime.now(datetime.UTC).\n",
      "  utc_peak_start = datetime.utcnow().replace(hour=10, minute=0, second=0, microsecond=0)\n",
      "C:\\Users\\vjltd\\AppData\\Local\\Temp\\ipykernel_23420\\3142825042.py:13: DeprecationWarning: datetime.datetime.utcnow() is deprecated and scheduled for removal in a future version. Use timezone-aware objects to represent datetimes in UTC: datetime.datetime.now(datetime.UTC).\n",
      "  utc_peak_end = datetime.utcnow().replace(hour=17, minute=0, second=0, microsecond=0)\n"
     ]
    }
   ],
   "source": [
    "#| export\n",
    "def get_local_peak_hours(lat_lons):\n",
    "    tf = TimezoneFinder()\n",
    "    peak_hours_info = []\n",
    "\n",
    "    for lat, lon in lat_lons:\n",
    "        # Find the time zone for the given lat-lon\n",
    "        tz_str = tf.timezone_at(lat=lat, lng=lon)\n",
    "        tz = pytz.timezone(tz_str)\n",
    "\n",
    "        # Define peak hours in UTC\n",
    "        utc_peak_start = datetime.utcnow().replace(hour=10, minute=0, second=0, microsecond=0)\n",
    "        utc_peak_end = datetime.utcnow().replace(hour=17, minute=0, second=0, microsecond=0)\n",
    "\n",
    "        # Convert peak hours to local time\n",
    "        local_peak_start = utc_peak_start.astimezone(tz)\n",
    "        local_peak_end = utc_peak_end.astimezone(tz)\n",
    "\n",
    "        peak_hours_info.append({\n",
    "            \"lat_lon\": (lat, lon),\n",
    "            \"time_zone\": tz_str,\n",
    "            \"local_peak_start\": local_peak_start.strftime(\"%Y-%m-%d %H:%M:%S\"),\n",
    "            \"local_peak_end\": local_peak_end.strftime(\"%Y-%m-%d %H:%M:%S\"),\n",
    "        })\n",
    "\n",
    "    return peak_hours_info\n",
    "\n",
    "# Example usage\n",
    "lat_lons = [(40.7128, -74.0060), (28.6139, 77.2090)]  # New York, New Delhi\n",
    "peak_hours = get_local_peak_hours(lat_lons)\n",
    "for info in peak_hours:\n",
    "    print(info)\n"
   ]
  },
  {
   "cell_type": "code",
   "execution_count": null,
   "metadata": {},
   "outputs": [
    {
     "name": "stdout",
     "output_type": "stream",
     "text": [
      "Timezone offset for latitude 40.7128, longitude -74.006 is -4.0 hours.\n"
     ]
    }
   ],
   "source": [
    "#| export\n",
    "def get_timezone_offset(lat, lon, date=datetime.now()):\n",
    "    \"\"\"\n",
    "    Returns the timezone offset in hours for a given latitude, longitude, and date.\n",
    "\n",
    "    :param lat: Latitude of the location\n",
    "    :param lon: Longitude of the location\n",
    "    :param date: Date for which to find the timezone offset, default is current date\n",
    "    :return: Timezone offset in hours from UTC\n",
    "    \"\"\"\n",
    "    tf = TimezoneFinder()\n",
    "    timezone_str = tf.timezone_at(lat=lat, lng=lon)  # Find the timezone name\n",
    "    if timezone_str is None:\n",
    "        return None  # Could not determine the timezone\n",
    "    timezone = pytz.timezone(timezone_str)\n",
    "\n",
    "    # Calculate offset in hours, considering daylight saving time\n",
    "    offset = timezone.utcoffset(date)\n",
    "    offset_hours = offset.total_seconds() / 3600\n",
    "    return offset_hours\n",
    "\n",
    "# Example usage\n",
    "lat, lon = 40.7128, -74.0060  # New York City\n",
    "offset_hours = get_timezone_offset(lat, lon)\n",
    "print(f\"Timezone offset for latitude {lat}, longitude {lon} is {offset_hours} hours.\")"
   ]
  },
  {
   "cell_type": "code",
   "execution_count": null,
   "metadata": {},
   "outputs": [],
   "source": [
    "#| export\n",
    "def calculate_search_radius(city_lat):\n",
    "    # Constants\n",
    "    km_per_degree_latitude = 111  # Approximate km covered by one degree of latitude\n",
    "    longitude_difference = 0.25  # Grid cell size in degrees (longitude)\n",
    "\n",
    "    # Calculating the East-West length of the grid cell at the given latitude\n",
    "    E_W_length_km = km_per_degree_latitude * math.cos(math.radians(city_lat)) * longitude_difference\n",
    "\n",
    "    # Calculating the radius as half the E-W length\n",
    "    radius_km = E_W_length_km / 2\n",
    "    return radius_km"
   ]
  },
  {
   "cell_type": "code",
   "execution_count": null,
   "metadata": {},
   "outputs": [],
   "source": [
    "#| hide\n",
    "if IN_COLAB:\n",
    "    from nbdev.export import notebook2script\n",
    "    notebook2script()\n",
    "else:\n",
    "    import nbdev; nbdev.nbdev_export()"
   ]
  },
  {
   "cell_type": "code",
   "execution_count": null,
   "metadata": {},
   "outputs": [],
   "source": []
  }
 ],
 "metadata": {
  "kernelspec": {
   "display_name": "python3",
   "language": "python",
   "name": "python3"
  }
 },
 "nbformat": 4,
 "nbformat_minor": 4
}
